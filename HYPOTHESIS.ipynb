{
 "cells": [
  {
   "cell_type": "code",
   "execution_count": 1,
   "id": "a99709ca-2575-435b-a1fa-7666f8eb3a0e",
   "metadata": {},
   "outputs": [
    {
     "name": "stdout",
     "output_type": "stream",
     "text": [
      "Collecting statsmodelsNote: you may need to restart the kernel to use updated packages.\n"
     ]
    },
    {
     "name": "stderr",
     "output_type": "stream",
     "text": [
      "\n",
      "[notice] A new release of pip available: 22.3.1 -> 24.0\n",
      "[notice] To update, run: python.exe -m pip install --upgrade pip\n"
     ]
    },
    {
     "name": "stdout",
     "output_type": "stream",
     "text": [
      "\n",
      "  Downloading statsmodels-0.14.2-cp311-cp311-win_amd64.whl (9.9 MB)\n",
      "     ---------------------------------------- 9.9/9.9 MB 1.9 MB/s eta 0:00:00\n",
      "Requirement already satisfied: numpy>=1.22.3 in c:\\users\\jinto\\appdata\\local\\programs\\python\\python311\\lib\\site-packages (from statsmodels) (1.26.2)\n",
      "Collecting scipy!=1.9.2,>=1.8\n",
      "  Downloading scipy-1.13.0-cp311-cp311-win_amd64.whl (46.2 MB)\n",
      "     ---------------------------------------- 46.2/46.2 MB 4.8 MB/s eta 0:00:00\n",
      "Requirement already satisfied: pandas!=2.1.0,>=1.4 in c:\\users\\jinto\\appdata\\local\\programs\\python\\python311\\lib\\site-packages (from statsmodels) (2.1.4)\n",
      "Collecting patsy>=0.5.6\n",
      "  Downloading patsy-0.5.6-py2.py3-none-any.whl (233 kB)\n",
      "     -------------------------------------- 233.9/233.9 kB 4.8 MB/s eta 0:00:00\n",
      "Requirement already satisfied: packaging>=21.3 in c:\\users\\jinto\\appdata\\local\\programs\\python\\python311\\lib\\site-packages (from statsmodels) (23.2)\n",
      "Requirement already satisfied: python-dateutil>=2.8.2 in c:\\users\\jinto\\appdata\\local\\programs\\python\\python311\\lib\\site-packages (from pandas!=2.1.0,>=1.4->statsmodels) (2.8.2)\n",
      "Requirement already satisfied: pytz>=2020.1 in c:\\users\\jinto\\appdata\\local\\programs\\python\\python311\\lib\\site-packages (from pandas!=2.1.0,>=1.4->statsmodels) (2023.3.post1)\n",
      "Requirement already satisfied: tzdata>=2022.1 in c:\\users\\jinto\\appdata\\local\\programs\\python\\python311\\lib\\site-packages (from pandas!=2.1.0,>=1.4->statsmodels) (2023.4)\n",
      "Requirement already satisfied: six in c:\\users\\jinto\\appdata\\local\\programs\\python\\python311\\lib\\site-packages (from patsy>=0.5.6->statsmodels) (1.16.0)\n",
      "Installing collected packages: scipy, patsy, statsmodels\n",
      "Successfully installed patsy-0.5.6 scipy-1.13.0 statsmodels-0.14.2\n"
     ]
    }
   ],
   "source": [
    "pip install statsmodels"
   ]
  },
  {
   "cell_type": "code",
   "execution_count": 2,
   "id": "56380c5c-eb89-4d6b-99c1-c0b56423f30e",
   "metadata": {},
   "outputs": [
    {
     "name": "stdout",
     "output_type": "stream",
     "text": [
      "Requirement already satisfied: scipy in c:\\users\\jinto\\appdata\\local\\programs\\python\\python311\\lib\\site-packages (1.13.0)\n",
      "Requirement already satisfied: numpy<2.3,>=1.22.4 in c:\\users\\jinto\\appdata\\local\\programs\\python\\python311\\lib\\site-packages (from scipy) (1.26.2)\n",
      "Note: you may need to restart the kernel to use updated packages.\n"
     ]
    },
    {
     "name": "stderr",
     "output_type": "stream",
     "text": [
      "\n",
      "[notice] A new release of pip available: 22.3.1 -> 24.0\n",
      "[notice] To update, run: python.exe -m pip install --upgrade pip\n"
     ]
    }
   ],
   "source": [
    "pip install scipy"
   ]
  },
  {
   "cell_type": "code",
   "execution_count": 7,
   "id": "fd95920d-1769-4ff7-a55a-58297830d9aa",
   "metadata": {},
   "outputs": [],
   "source": [
    "import numpy as np"
   ]
  },
  {
   "cell_type": "markdown",
   "id": "629923bf-3428-48aa-9b5c-2482bef725f1",
   "metadata": {},
   "source": [
    "## Task1\n",
    "Suppose a child psychologist claims that the average time working mothers spend talking to their children \n",
    "is at least 11 minutes per day.You conduct a random sample of 1000 working mothers and find they spend an \n",
    "average of 11.5 minutes per day talking with their children.Assume prior research suggests the population standard deviation is 2.3 minutes.\n",
    "Conduct a test with a level of significance of alpha = 0.05.\n",
    "\n",
    "\n",
    "Null Hypothesis Ho = μ ≤ 11 minutes\n",
    "\n",
    "\n",
    "Alternative Hypothesis Ha = μ > 11 minutes\n",
    "\n",
    "\n",
    "x̄ = 11.5 minutes\n",
    "\n",
    "\n",
    "n = 1000\n",
    "\n",
    "\n",
    "σ = 2.3 minutes\n",
    "\n",
    "\n",
    "α = 0.05\n",
    "\n",
    "\n",
    "μ = 11 minutes\n",
    "\n",
    "\n",
    "Since we have a sample of 1000, which is greater than 30, and we have a sample mean, standard deviation, and \n",
    "want to compare the sample mean to a population value ,so we can use Z-test.\n",
    "\n",
    "Z=(x̄ - μ)/(σ/√n)"
   ]
  },
  {
   "cell_type": "code",
   "execution_count": 3,
   "id": "f8093d90-1d79-475e-9089-11984d26f219",
   "metadata": {},
   "outputs": [
    {
     "data": {
      "text/plain": [
       "6.874516652539955"
      ]
     },
     "execution_count": 3,
     "metadata": {},
     "output_type": "execute_result"
    }
   ],
   "source": [
    "import math\n",
    "Z = (11.5-11)/(2.3/math.sqrt(1000))\n",
    "Z"
   ]
  },
  {
   "attachments": {},
   "cell_type": "markdown",
   "id": "0d55580f-c396-475a-bb60-9544852dcece",
   "metadata": {},
   "source": [
    "crirical value for a z-score corresponding to an alpha level of 0.05 from z-distribution table = 1.645.\n",
    "It represents the value beyond which you would reject the null hypothesis.\r\n"
   ]
  },
  {
   "cell_type": "markdown",
   "id": "d8cd04cb-5594-4da0-bf37-705f94ffbbd2",
   "metadata": {},
   "source": [
    "## INFERENCE\n",
    "\n",
    "\r",
    "### z-score( 6.8) >  criticalvalue( 1.64), so reject the null hypothesis .That means the average time working mothers spend talking to their children is indeed more than 11 minutes per day."
   ]
  },
  {
   "cell_type": "markdown",
   "id": "1a128b13-27a3-42da-b374-6cb12e6b0630",
   "metadata": {},
   "source": [
    "## Task 2\n",
    "\n",
    "A coffee shop claims that their average wait time for customers is less than 5 minutes. To test this claim, a sample of 40 customers is taken, and their wait times are recorded. The sample mean wait time is found to be 4.6 minutes with a standard deviation of 0.8 minutes. Perform a hypothesis test at a significance level of 0.05 and determine whether there is enough evidence to support the coffee shop's claim.\n",
    "\n"
   ]
  },
  {
   "cell_type": "markdown",
   "id": "edf36785-1807-4b14-941a-c2274e48dc3c",
   "metadata": {},
   "source": [
    "### NULL HYPOTHESIS\n",
    "Ho = μ ≥ 5 minutes\r\n",
    "\n",
    "### ALTERNATIVE HYPOTHESIS\r\n",
    "Ha = μ < 5 minute\n",
    "\n",
    "\n",
    "x̄ = 4.6 minutes\n",
    "\n",
    "\n",
    "n = 40\n",
    "\n",
    "\n",
    "σ(sample) = 0.8 minutes\n",
    "\n",
    "\n",
    "α = 0.05\n",
    "\n",
    "\n",
    "Degree of freedom(n-1)= 39\n",
    "\n",
    "\n",
    "μ = 5 minutesutess\n"
   ]
  },
  {
   "cell_type": "markdown",
   "id": "3c25aadb-8148-4c76-8452-34d400e81eda",
   "metadata": {},
   "source": [
    "When the population standard deviation is unknown, the t-test is suitable, especially for smaller sample sizes, typically less than 30. However, even for larger sample sizes, typically greater than 30, the t-test remains applicable despite the unknown population standard deviation, owing to the Central Limit Theorem. This theorem states that as the sample size increases, the distribution of sample means tends towards a normal distribution.\n",
    "\n",
    "\n",
    "t = (x̄ - μ) / (σ / √n)"
   ]
  },
  {
   "cell_type": "code",
   "execution_count": 4,
   "id": "29b67727-d064-4ac9-89c2-47fb6262abb9",
   "metadata": {},
   "outputs": [
    {
     "data": {
      "text/plain": [
       "-3.162277660168382"
      ]
     },
     "execution_count": 4,
     "metadata": {},
     "output_type": "execute_result"
    }
   ],
   "source": [
    "t = (4.6-5)/(0.8/math.sqrt(40))\n",
    "t"
   ]
  },
  {
   "cell_type": "markdown",
   "id": "4455c9ee-e9b5-46aa-8ab4-6b4e6efd5fa0",
   "metadata": {},
   "source": [
    "The function t.ppf(alpha, df) calculates a critical value from the t-distribution based on the provided significance level (alpha) and degrees of freedom (df).The term \"percent point function\" (ppf) means it gives you a value from the distribution such that if you randomly select a value from the distribution, there's a certain probability it will be less than or equal to that value."
   ]
  },
  {
   "cell_type": "code",
   "execution_count": 5,
   "id": "52e8b8c2-4850-48d4-ab1f-6feea6a477cd",
   "metadata": {},
   "outputs": [
    {
     "name": "stdout",
     "output_type": "stream",
     "text": [
      "Critical value: -1.684875121711225\n"
     ]
    }
   ],
   "source": [
    "#calculating the critical value with df 39 and alpha 0.05\n",
    "from scipy.stats import t\n",
    "critical_value = t.ppf(0.05, 39)\n",
    "print(\"Critical value:\", critical_value)"
   ]
  },
  {
   "cell_type": "markdown",
   "id": "24f6eee0-010d-4703-8390-f42f13cd481e",
   "metadata": {},
   "source": [
    "### Conclusion\n",
    "\n",
    "Calculated t-value, which is -3.16, falls below the critical t-value of -1.685. Therefore, we reject the null hypothesis. This implies there is sufficient evidence to support the assertion that the average wait time for customers is less than 5 minutes"
   ]
  },
  {
   "cell_type": "code",
   "execution_count": null,
   "id": "a07d33ee-fee7-4ddb-8923-7b0778d6a395",
   "metadata": {},
   "outputs": [],
   "source": []
  }
 ],
 "metadata": {
  "kernelspec": {
   "display_name": "Python 3 (ipykernel)",
   "language": "python",
   "name": "python3"
  },
  "language_info": {
   "codemirror_mode": {
    "name": "ipython",
    "version": 3
   },
   "file_extension": ".py",
   "mimetype": "text/x-python",
   "name": "python",
   "nbconvert_exporter": "python",
   "pygments_lexer": "ipython3",
   "version": "3.11.3"
  }
 },
 "nbformat": 4,
 "nbformat_minor": 5
}
